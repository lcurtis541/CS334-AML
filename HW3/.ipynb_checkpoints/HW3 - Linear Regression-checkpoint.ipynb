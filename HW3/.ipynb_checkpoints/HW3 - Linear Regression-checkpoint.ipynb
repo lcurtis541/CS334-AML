{
 "cells": [
  {
   "cell_type": "markdown",
   "id": "35bcc11b",
   "metadata": {},
   "source": [
    "# Given Data\n"
   ]
  },
  {
   "cell_type": "code",
   "execution_count": 40,
   "id": "529f4ab0",
   "metadata": {},
   "outputs": [],
   "source": [
    "data = np.array([3.0, 3.7, 3.3, 2.5, 4.0, 3.2, 3.9, 3.0]).reshape(-1,1)\n",
    "hoursStudied = np.array([2, 8, 3, 1, 12, 7, 9, 5]).reshape(-1,1)"
   ]
  },
  {
   "cell_type": "code",
   "execution_count": 25,
   "id": "2d52811a",
   "metadata": {},
   "outputs": [],
   "source": [
    "import numpy as np\n",
    "from sklearn.linear_model import LinearRegression"
   ]
  },
  {
   "cell_type": "code",
   "execution_count": 44,
   "id": "242be347",
   "metadata": {},
   "outputs": [
    {
     "data": {
      "text/plain": [
       "0.8073802457380752"
      ]
     },
     "execution_count": 44,
     "metadata": {},
     "output_type": "execute_result"
    }
   ],
   "source": [
    "reg = LinearRegression().fit(data, hoursStudied)\n",
    "reg.score(data, hoursStudied)"
   ]
  },
  {
   "cell_type": "code",
   "execution_count": 47,
   "id": "3c25b2c0",
   "metadata": {},
   "outputs": [
    {
     "name": "stdout",
     "output_type": "stream",
     "text": [
      "Coefficients: \n",
      " [[6.66212534]]\n"
     ]
    }
   ],
   "source": [
    "# The coefficients\n",
    "print(\"Coefficients: \\n\", reg.coef_)"
   ]
  },
  {
   "cell_type": "code",
   "execution_count": null,
   "id": "78d8de70",
   "metadata": {},
   "outputs": [],
   "source": []
  },
  {
   "cell_type": "code",
   "execution_count": null,
   "id": "480fc26f",
   "metadata": {},
   "outputs": [],
   "source": []
  }
 ],
 "metadata": {
  "kernelspec": {
   "display_name": "Python 3 (ipykernel)",
   "language": "python",
   "name": "python3"
  },
  "language_info": {
   "codemirror_mode": {
    "name": "ipython",
    "version": 3
   },
   "file_extension": ".py",
   "mimetype": "text/x-python",
   "name": "python",
   "nbconvert_exporter": "python",
   "pygments_lexer": "ipython3",
   "version": "3.9.7"
  }
 },
 "nbformat": 4,
 "nbformat_minor": 5
}
