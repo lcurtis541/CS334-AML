{
 "cells": [
  {
   "cell_type": "markdown",
   "id": "957b7931",
   "metadata": {},
   "source": [
    "# Given Data\n"
   ]
  },
  {
   "cell_type": "code",
   "execution_count": 73,
   "id": "cce4838f",
   "metadata": {},
   "outputs": [],
   "source": [
    "data = np.array([3.0, 3.7, 3.3, 2.5, 4.0, 3.2, 3.9, 3.0]).reshape(-1,1)\n",
    "hoursStudied = np.array([2, 8, 3, 1, 12, 7, 9, 5]).reshape(-1,1)"
   ]
  },
  {
   "cell_type": "code",
   "execution_count": 74,
   "id": "c8a701dc",
   "metadata": {},
   "outputs": [],
   "source": [
    "import numpy as np\n",
    "import matplotlib.pyplot as plt\n",
    "from sklearn.linear_model import LinearRegression"
   ]
  },
  {
   "cell_type": "code",
   "execution_count": 75,
   "id": "c60b1f8c",
   "metadata": {},
   "outputs": [],
   "source": [
    "reg = LinearRegression().fit(data, hoursStudied)"
   ]
  },
  {
   "cell_type": "code",
   "execution_count": 76,
   "id": "c8bd9d3c",
   "metadata": {},
   "outputs": [
    {
     "name": "stdout",
     "output_type": "stream",
     "text": [
      "X: [[6.66212534]]\n",
      "Y-Intercept: [-16.27656676]\n"
     ]
    }
   ],
   "source": [
    "# The coefficients\n",
    "print(\"X:\", reg.coef_)\n",
    "print(\"Y-Intercept:\", reg.intercept_)"
   ]
  },
  {
   "cell_type": "code",
   "execution_count": 77,
   "id": "e06bfc53",
   "metadata": {},
   "outputs": [
    {
     "data": {
      "text/plain": [
       "[<matplotlib.lines.Line2D at 0x113669f1550>]"
      ]
     },
     "execution_count": 77,
     "metadata": {},
     "output_type": "execute_result"
    },
    {
     "data": {
      "image/png": "[encoded data removed]",
      "text/plain": [
       "<Figure size 432x288 with 1 Axes>"
      ]
     },
     "metadata": {
      "needs_background": "light"
     },
     "output_type": "display_data"
    }
   ],
   "source": [
    "plt.scatter(data, hoursStudied, color=\"black\")\n",
    "x = np.linspace(min(data), max(data)) #draws the line only where the data is at\n",
    "plt.plot(x,reg.coef_[0]*x+reg.intercept_[0])\n"
   ]
  },
  {
   "cell_type": "markdown",
   "id": "5c8adf69",
   "metadata": {},
   "source": [
    "### You can see the coefficent of our linear regression model is 6.66  and our y intercept is -16.276. This means our total linear lines formula is y = 6.66x -16.28. If we plot this we can see it lines up good enough for the little amount of data we were given. The linear regression line is blue and the data plotted is the black dots."
   ]
  },
  {
   "cell_type": "code",
   "execution_count": null,
   "id": "002be3d0",
   "metadata": {},
   "outputs": [],
   "source": []
  }
 ],
 "metadata": {
  "kernelspec": {
   "display_name": "Python 3 (ipykernel)",
   "language": "python",
   "name": "python3"
  },
  "language_info": {
   "codemirror_mode": {
    "name": "ipython",
    "version": 3
   },
   "file_extension": ".py",
   "mimetype": "text/x-python",
   "name": "python",
   "nbconvert_exporter": "python",
   "pygments_lexer": "ipython3",
   "version": "3.9.7"
  }
 },
 "nbformat": 4,
 "nbformat_minor": 5
}
