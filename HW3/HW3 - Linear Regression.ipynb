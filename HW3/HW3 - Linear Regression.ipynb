{
 "cells": [
  {
   "cell_type": "markdown",
   "id": "86b2174a",
   "metadata": {},
   "source": [
    "# Given Data\n"
   ]
  },
  {
   "cell_type": "code",
   "execution_count": 40,
   "id": "2617a83c",
   "metadata": {},
   "outputs": [],
   "source": [
    "data = np.array([3.0, 3.7, 3.3, 2.5, 4.0, 3.2, 3.9, 3.0]).reshape(-1,1)\n",
    "hoursStudied = np.array([2, 8, 3, 1, 12, 7, 9, 5]).reshape(-1,1)"
   ]
  },
  {
   "cell_type": "code",
   "execution_count": 48,
   "id": "01f16830",
   "metadata": {},
   "outputs": [],
   "source": [
    "import numpy as np\n",
    "import matplotlib.pyplot as plt\n",
    "from sklearn.linear_model import LinearRegression"
   ]
  },
  {
   "cell_type": "code",
   "execution_count": 44,
   "id": "6da8dd6b",
   "metadata": {},
   "outputs": [
    {
     "data": {
      "text/plain": [
       "0.8073802457380752"
      ]
     },
     "execution_count": 44,
     "metadata": {},
     "output_type": "execute_result"
    }
   ],
   "source": [
    "reg = LinearRegression().fit(data, hoursStudied)\n",
    "reg.score(data, hoursStudied)"
   ]
  },
  {
   "cell_type": "code",
   "execution_count": 50,
   "id": "db37143e",
   "metadata": {},
   "outputs": [
    {
     "name": "stdout",
     "output_type": "stream",
     "text": [
      "X: [[6.66212534]]\n",
      "Y-Intercept: [-16.27656676]\n"
     ]
    }
   ],
   "source": [
    "# The coefficients\n",
    "print(\"X:\", reg.coef_)\n",
    "print(\"Y-Intercept:\", reg.intercept_)"
   ]
  },
  {
   "cell_type": "code",
   "execution_count": 56,
   "id": "9cb7deb0",
   "metadata": {},
   "outputs": [
    {
     "data": {
      "text/plain": [
       "<matplotlib.collections.PathCollection at 0x11366579280>"
      ]
     },
     "execution_count": 56,
     "metadata": {},
     "output_type": "execute_result"
    },
    {
     "data": {
      "image/png": "[encoded data removed]",
      "text/plain": [
       "<Figure size 432x288 with 1 Axes>"
      ]
     },
     "metadata": {
      "needs_background": "light"
     },
     "output_type": "display_data"
    }
   ],
   "source": [
    "plt.scatter(data, hoursStudied, color=\"black\")\n",
    "##plt.plot(np.linspace(-5,5,100),(\"y = 6.66x -16.28\"), '-r', label='y=2x+1')\n"
   ]
  },
  {
   "cell_type": "markdown",
   "id": "4a748961",
   "metadata": {},
   "source": [
    "#### You can see the coefficent of our linear regression model is 6.66  and our y intercept is -16.276. This means our total linear lines formula is y = 6.66x -16.28. If we plot this we can see it lines up good enough for the little amount of data we were given"
   ]
  },
  {
   "cell_type": "code",
   "execution_count": null,
   "id": "192ec5b3",
   "metadata": {},
   "outputs": [],
   "source": []
  }
 ],
 "metadata": {
  "kernelspec": {
   "display_name": "Python 3 (ipykernel)",
   "language": "python",
   "name": "python3"
  },
  "language_info": {
   "codemirror_mode": {
    "name": "ipython",
    "version": 3
   },
   "file_extension": ".py",
   "mimetype": "text/x-python",
   "name": "python",
   "nbconvert_exporter": "python",
   "pygments_lexer": "ipython3",
   "version": "3.9.7"
  }
 },
 "nbformat": 4,
 "nbformat_minor": 5
}
